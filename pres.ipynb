{
    "cells": [
        {
            "cell_type": "markdown",
            "metadata": {
                "slideshow": {
                    "slide_type": "slide"
                }
            },
            "source": [
                "# La dynamique des attributs\n",
                "### Emmenez-moi au bout de l'attr \u266b\n",
                "#### <div align=\"right\">Antoine (entwanne) Rozo</div>\n",
                "\n",
                "<div align=\"right\"><img src=\"schtroumpf_flat_rounded.png\" style=\"width: 5em;\" /></div>\n",
                "\n",
                "<div align=\"right\"><small><i>CC BY-SA</i></small></div>"
            ]
        },
        {
            "cell_type": "code",
            "metadata": {
                "slideshow": {
                    "slide_type": "skip"
                }
            },
            "source": [
                "# Base object\n",
                "class Obj:\n",
                "    pass\n",
                "dana = Obj()"
            ],
            "outputs": [],
            "execution_count": null
        },
        {
            "cell_type": "markdown",
            "metadata": {
                "slideshow": {
                    "slide_type": "subslide"
                }
            },
            "source": [
                "<center><img src=\"zestedesavoir.png\" style=\"height: 20em;\" /></center>"
            ]
        },
        {
            "cell_type": "markdown",
            "metadata": {
                "slideshow": {
                    "slide_type": "subslide"
                }
            },
            "source": [
                "## La dynamique des attributs\n",
                "\n",
                "* Comprendre le stockage et l'acc\u00e8s aux attributs en Python\n",
                "* Mettre en place des attributs dynamiques sur nos objets\n",
                "\n",
                "* <https://zestedesavoir.com/tutoriels/954/notions-de-python-avancees/>"
            ]
        },
        {
            "cell_type": "markdown",
            "metadata": {
                "slideshow": {
                    "slide_type": "slide"
                }
            },
            "source": [
                "# Attributs en Python"
            ]
        },
        {
            "cell_type": "markdown",
            "metadata": {
                "slideshow": {
                    "slide_type": "subslide"
                }
            },
            "source": [
                "## Attributs en Python\n",
                "\n",
                "* Les attributs permettent d'associer des donn\u00e9es \u00e0 un objet"
            ]
        },
        {
            "cell_type": "code",
            "metadata": {
                "slideshow": {
                    "slide_type": "-"
                }
            },
            "source": [
                "dana.attr = 10"
            ],
            "outputs": [],
            "execution_count": null
        },
        {
            "cell_type": "code",
            "metadata": {
                "slideshow": {
                    "slide_type": "-"
                }
            },
            "source": [
                "dana.attr"
            ],
            "outputs": [],
            "execution_count": null
        },
        {
            "cell_type": "code",
            "metadata": {
                "slideshow": {
                    "slide_type": "-"
                }
            },
            "source": [
                "del dana.attr"
            ],
            "outputs": [],
            "execution_count": null
        },
        {
            "cell_type": "markdown",
            "metadata": {
                "slideshow": {
                    "slide_type": "subslide"
                }
            },
            "source": [
                "## Fonctions `setattr`, `getattr` et `delattr`\n",
                "\n",
                "* Ces op\u00e9rations \u00e9l\u00e9mentaires correspondent \u00e0 des fonctions Python"
            ]
        },
        {
            "cell_type": "code",
            "metadata": {
                "slideshow": {
                    "slide_type": "-"
                }
            },
            "source": [
                "setattr(dana, 'foo', 'bar')"
            ],
            "outputs": [],
            "execution_count": null
        },
        {
            "cell_type": "code",
            "metadata": {
                "slideshow": {
                    "slide_type": "-"
                }
            },
            "source": [
                "getattr(dana, 'foo')"
            ],
            "outputs": [],
            "execution_count": null
        },
        {
            "cell_type": "code",
            "metadata": {
                "slideshow": {
                    "slide_type": "-"
                }
            },
            "source": [
                "delattr(dana, 'foo')"
            ],
            "outputs": [],
            "execution_count": null
        },
        {
            "cell_type": "markdown",
            "metadata": {
                "slideshow": {
                    "slide_type": "subslide"
                }
            },
            "source": [
                "## Fonction `hasattr`\n",
                "\n",
                "* Une fonction suppl\u00e9mentaire permet de tester la pr\u00e9sence d'un attribut"
            ]
        },
        {
            "cell_type": "code",
            "metadata": {
                "slideshow": {
                    "slide_type": "-"
                }
            },
            "source": [
                "hasattr(dana, 'foo')"
            ],
            "outputs": [],
            "execution_count": null
        },
        {
            "cell_type": "markdown",
            "metadata": {
                "slideshow": {
                    "slide_type": "subslide"
                }
            },
            "source": [
                "## Stockage des attributs\n",
                "\n",
                "* Les objets Python poss\u00e8dent un attribut sp\u00e9cial, `__dict__`\n",
                "* Il s'agit d'un dictionnaire qui stocke toutes les donn\u00e9es de l'objet"
            ]
        },
        {
            "cell_type": "code",
            "metadata": {
                "slideshow": {
                    "slide_type": "-"
                }
            },
            "source": [
                "dana.__dict__"
            ],
            "outputs": [],
            "execution_count": null
        },
        {
            "cell_type": "markdown",
            "metadata": {
                "slideshow": {
                    "slide_type": "-"
                }
            },
            "source": [
                "* Ce dictionnaire est utilis\u00e9 lors de l'acc\u00e8s \u00e0 un attribut"
            ]
        },
        {
            "cell_type": "code",
            "metadata": {
                "slideshow": {
                    "slide_type": "-"
                }
            },
            "source": [
                "dana.__dict__['foo']"
            ],
            "outputs": [],
            "execution_count": null
        },
        {
            "cell_type": "markdown",
            "metadata": {
                "slideshow": {
                    "slide_type": "slide"
                }
            },
            "source": [
                "# Method Resolution Order (*MRO*)"
            ]
        },
        {
            "cell_type": "markdown",
            "metadata": {
                "slideshow": {
                    "slide_type": "subslide"
                }
            },
            "source": [
                "## Method Resolution Order\n",
                "\n",
                "* L'acc\u00e8s \u00e0 un attribut ne se contente pas d'explorer le `__dict__` de l'objet\n",
                "* Sont aussi analys\u00e9s celui du type, et de tous les types parents\n",
                "* L'ordre d'\u00e9valuation des types est d\u00e9fini par le *MRO*"
            ]
        },
        {
            "cell_type": "markdown",
            "metadata": {
                "slideshow": {
                    "slide_type": "subslide"
                }
            },
            "source": [
                "## Method Resolution Order"
            ]
        },
        {
            "cell_type": "code",
            "metadata": {
                "slideshow": {
                    "slide_type": "-"
                }
            },
            "source": [
                "class A:\n",
                "    foo = 'A.foo'\n",
                "    bar = 'A.bar'\n",
                "    baz = 'A.baz'\n",
                "\n",
                "class B(A):\n",
                "    bar = 'B.bar'\n",
                "\n",
                "b = B()\n",
                "b.baz = 'b.baz'\n",
                "\n",
                "b.foo, b.bar, b.baz"
            ],
            "outputs": [],
            "execution_count": null
        },
        {
            "cell_type": "markdown",
            "metadata": {
                "slideshow": {
                    "slide_type": "subslide"
                }
            },
            "source": [
                "## Method Resolution Order\n",
                "\n",
                "* On peut conna\u00eetre le *MRO* d'une classe en faisant appel \u00e0 sa m\u00e9thode `mro`"
            ]
        },
        {
            "cell_type": "code",
            "metadata": {
                "slideshow": {
                    "slide_type": "-"
                }
            },
            "source": [
                "B.mro()"
            ],
            "outputs": [],
            "execution_count": null
        },
        {
            "cell_type": "markdown",
            "metadata": {
                "slideshow": {
                    "slide_type": "subslide"
                }
            },
            "source": [
                "## Method Resolution Order\n",
                "\n",
                "* Celui-ci est surtout utile lors d'h\u00e9ritages multiples, il se base sur l'algorithme C3\n",
                "* Il permet de lin\u00e9ariser la hi\u00e9rarchie des classes parentes"
            ]
        },
        {
            "cell_type": "code",
            "metadata": {
                "slideshow": {
                    "slide_type": "-"
                }
            },
            "source": [
                "class P1:\n",
                "    foo = 'P1.foo'\n",
                "\n",
                "class P2:\n",
                "    foo = 'P2.foo'\n",
                "    bar = 'P2.bar'\n",
                "\n",
                "class C(P1, P2):\n",
                "    pass\n",
                "\n",
                "C.mro()"
            ],
            "outputs": [],
            "execution_count": null
        },
        {
            "cell_type": "code",
            "metadata": {
                "slideshow": {
                    "slide_type": "-"
                }
            },
            "source": [
                "C.foo, C.bar"
            ],
            "outputs": [],
            "execution_count": null
        },
        {
            "cell_type": "markdown",
            "metadata": {
                "slideshow": {
                    "slide_type": "subslide"
                }
            },
            "source": [
                "## Method Resolution Order"
            ]
        },
        {
            "cell_type": "code",
            "metadata": {
                "slideshow": {
                    "slide_type": "-"
                }
            },
            "source": [
                "object.mro()"
            ],
            "outputs": [],
            "execution_count": null
        },
        {
            "cell_type": "code",
            "metadata": {
                "slideshow": {
                    "slide_type": "-"
                }
            },
            "source": [
                "class A: pass\n",
                "\n",
                "A.mro()"
            ],
            "outputs": [],
            "execution_count": null
        },
        {
            "cell_type": "code",
            "metadata": {
                "slideshow": {
                    "slide_type": "-"
                }
            },
            "source": [
                "class B(A): pass\n",
                "\n",
                "B.mro()"
            ],
            "outputs": [],
            "execution_count": null
        },
        {
            "cell_type": "code",
            "metadata": {
                "slideshow": {
                    "slide_type": "-"
                }
            },
            "source": [
                "class C: pass\n",
                "\n",
                "C.mro()"
            ],
            "outputs": [],
            "execution_count": null
        },
        {
            "cell_type": "markdown",
            "metadata": {
                "slideshow": {
                    "slide_type": "subslide"
                }
            },
            "source": [
                "## Method Resolution Order"
            ]
        },
        {
            "cell_type": "code",
            "metadata": {
                "slideshow": {
                    "slide_type": "-"
                }
            },
            "source": [
                "class D(A, C): pass\n",
                "\n",
                "D.mro()"
            ],
            "outputs": [],
            "execution_count": null
        },
        {
            "cell_type": "code",
            "metadata": {
                "slideshow": {
                    "slide_type": "-"
                }
            },
            "source": [
                "class E(B, C): pass\n",
                "\n",
                "E.mro()"
            ],
            "outputs": [],
            "execution_count": null
        },
        {
            "cell_type": "code",
            "metadata": {
                "slideshow": {
                    "slide_type": "-"
                }
            },
            "source": [
                "class F(D, E): pass\n",
                "\n",
                "F.mro()"
            ],
            "outputs": [],
            "execution_count": null
        },
        {
            "cell_type": "code",
            "metadata": {
                "slideshow": {
                    "slide_type": "-"
                }
            },
            "source": [
                "class G(E, D): pass\n",
                "\n",
                "G.mro()"
            ],
            "outputs": [],
            "execution_count": null
        },
        {
            "cell_type": "markdown",
            "metadata": {
                "slideshow": {
                    "slide_type": "subslide"
                }
            },
            "source": [
                "## *MRO* de l'impossible"
            ]
        },
        {
            "cell_type": "code",
            "metadata": {
                "slideshow": {
                    "slide_type": "-"
                }
            },
            "source": [
                "class H(A, B): pass"
            ],
            "outputs": [],
            "execution_count": null
        },
        {
            "cell_type": "code",
            "metadata": {
                "slideshow": {
                    "slide_type": "-"
                }
            },
            "source": [
                "class H(B, A): pass\n",
                "\n",
                "H.mro()"
            ],
            "outputs": [],
            "execution_count": null
        },
        {
            "cell_type": "markdown",
            "metadata": {
                "slideshow": {
                    "slide_type": "slide"
                }
            },
            "source": [
                "# Attributs et m\u00e9thodes sp\u00e9ciales"
            ]
        },
        {
            "cell_type": "markdown",
            "metadata": {
                "slideshow": {
                    "slide_type": "subslide"
                }
            },
            "source": [
                "## `__getattr__` et `__getattribute__`\n",
                "\n",
                "* Des m\u00e9thodes sp\u00e9ciales sont impliqu\u00e9es dans la recherche des attributs d'un objet\n",
                "* Lors de l'acc\u00e8s \u00e0 un attribut, la m\u00e9thode `__getattribute__` est appel\u00e9e\n",
                "* C'est celle-ci qui s'occupe par d\u00e9faut d'explorer les dictionnaires d'attributs"
            ]
        },
        {
            "cell_type": "code",
            "metadata": {
                "slideshow": {
                    "slide_type": "-"
                }
            },
            "source": [
                "def __getattribute__(self, name):\n",
                "    if name in self.__dict__:\n",
                "        return self.__dict__[name]\n",
                "    for cls in type(self).mro():\n",
                "        if name in cls.__dict__:\n",
                "            return cls.__dict__[name]\n",
                "    raise AttributeError"
            ],
            "outputs": [],
            "execution_count": null
        },
        {
            "cell_type": "markdown",
            "metadata": {
                "slideshow": {
                    "slide_type": "subslide"
                }
            },
            "source": [
                "## `__getattr__` et `__getattribute__`"
            ]
        },
        {
            "cell_type": "code",
            "metadata": {
                "slideshow": {
                    "slide_type": "-"
                }
            },
            "source": [
                "class Temperature:\n",
                "    def __init__(self, celsius=0):\n",
                "        self.celsius = celsius\n",
                "\n",
                "    def __getattribute__(self, name):\n",
                "        print(f\"R\u00e9cup\u00e9ration de l'attribut {name}\")\n",
                "        if name == 'fahrenheit':\n",
                "            return self.celsius * 1.8 + 32\n",
                "        return super().__getattribute__(name)\n",
                "\n",
                "t = Temperature(25)\n",
                "t.celsius"
            ],
            "outputs": [],
            "execution_count": null
        },
        {
            "cell_type": "code",
            "metadata": {
                "slideshow": {
                    "slide_type": "-"
                }
            },
            "source": [
                "t.fahrenheit"
            ],
            "outputs": [],
            "execution_count": null
        },
        {
            "cell_type": "markdown",
            "metadata": {
                "slideshow": {
                    "slide_type": "subslide"
                }
            },
            "source": [
                "## Pi\u00e8ges de `__getattribute__`\n",
                "\n",
                "* Attention aux cas de r\u00e9cursions infinies"
            ]
        },
        {
            "cell_type": "code",
            "metadata": {
                "slideshow": {
                    "slide_type": "-"
                }
            },
            "source": [
                "class WTF:\n",
                "    def __getattribute__(self, name):\n",
                "        return self.__dict__[name]\n",
                "\n",
                "wtf = WTF()\n",
                "wtf.foo = 0"
            ],
            "outputs": [],
            "execution_count": null
        },
        {
            "cell_type": "code",
            "metadata": {
                "slideshow": {
                    "slide_type": "-"
                }
            },
            "source": [
                "wtf.foo"
            ],
            "outputs": [],
            "execution_count": null
        },
        {
            "cell_type": "markdown",
            "metadata": {
                "slideshow": {
                    "slide_type": "subslide"
                }
            },
            "source": [
                "## `__getattr__` et `__getattribute__`\n",
                "\n",
                "* `__getattr__` est appel\u00e9e lorsqu'un attribut n'est pas trouv\u00e9 par `__getattribute__`\n",
                "* Elle permet plus facilement de g\u00e9rer des attributs dynamiques en plus des existants"
            ]
        },
        {
            "cell_type": "code",
            "metadata": {
                "slideshow": {
                    "slide_type": "-"
                }
            },
            "source": [
                "class Temperature:\n",
                "    def __init__(self, celsius=0):\n",
                "        self.celsius = celsius\n",
                "\n",
                "    def __getattr__(self, name):\n",
                "        if name == 'fahrenheit':\n",
                "            return self.celsius * 1.8 + 32\n",
                "        raise AttributeError(name)\n",
                "\n",
                "t = Temperature(25)\n",
                "t.celsius"
            ],
            "outputs": [],
            "execution_count": null
        },
        {
            "cell_type": "code",
            "metadata": {
                "slideshow": {
                    "slide_type": "-"
                }
            },
            "source": [
                "t.fahrenheit"
            ],
            "outputs": [],
            "execution_count": null
        },
        {
            "cell_type": "markdown",
            "metadata": {
                "slideshow": {
                    "slide_type": "subslide"
                }
            },
            "source": [
                "## `__setattr__` et `__delattr__`\n",
                "\n",
                "* Ces m\u00e9thodes sont appel\u00e9es respectivement pour l'\u00e9criture et la suppression d'un attribut\n",
                "* Elles sont appel\u00e9es dans tous les cas, pour tous les attributs"
            ]
        },
        {
            "cell_type": "markdown",
            "metadata": {
                "slideshow": {
                    "slide_type": "subslide"
                }
            },
            "source": [
                "## `__setattr__` et `__delattr__`"
            ]
        },
        {
            "cell_type": "code",
            "metadata": {
                "slideshow": {
                    "slide_type": "-"
                }
            },
            "source": [
                "class Temperature:\n",
                "    def __init__(self, celsius=0):\n",
                "        self.celsius = celsius\n",
                "\n",
                "    def __getattr__(self, name):\n",
                "        if name == 'fahrenheit':\n",
                "            return self.celsius * 1.8 + 32\n",
                "        raise AttributeError(name)\n",
                "\n",
                "    def __setattr__(self, name, value):\n",
                "        if name == 'fahrenheit':\n",
                "            self.celsius = (value - 32) / 1.8\n",
                "        else:\n",
                "            super().__setattr__(name, value)\n",
                "\n",
                "t = Temperature()\n",
                "t.fahrenheit = 100\n",
                "t.celsius"
            ],
            "outputs": [],
            "execution_count": null
        },
        {
            "cell_type": "markdown",
            "metadata": {
                "slideshow": {
                    "slide_type": "subslide"
                }
            },
            "source": [
                "## Pi\u00e8ges de `__setattr__`\n",
                "\n",
                "* Attention encore aux r\u00e9cursions infinies"
            ]
        },
        {
            "cell_type": "code",
            "metadata": {
                "slideshow": {
                    "slide_type": "-"
                }
            },
            "source": [
                "class WTF:\n",
                "    def __setattr__(self, name, value):\n",
                "        super().__setattr__(name, value)\n",
                "        self.last_attribute_modified = name\n",
                "\n",
                "wtf = WTF()\n",
                "wtf.foo = 0"
            ],
            "outputs": [],
            "execution_count": null
        },
        {
            "cell_type": "markdown",
            "metadata": {
                "slideshow": {
                    "slide_type": "subslide"
                }
            },
            "source": [
                "## Pi\u00e8ges de `__setattr__`\n",
                "\n",
                "* Et aux appels par l'initialiseur"
            ]
        },
        {
            "cell_type": "code",
            "metadata": {
                "slideshow": {
                    "slide_type": "-"
                }
            },
            "source": [
                "class WTF:\n",
                "    def __init__(self, path, prefix=''):\n",
                "        self.path = path\n",
                "        self.prefix = prefix\n",
                "\n",
                "    def __setattr__(self, name, value):\n",
                "        if name == 'path':\n",
                "            self.path = value + self.suffix\n",
                "        else:\n",
                "            super().__setattr__(self, name, value)\n",
                "\n",
                "wtf = WTF('foo', '/tmp/')"
            ],
            "outputs": [],
            "execution_count": null
        },
        {
            "cell_type": "markdown",
            "metadata": {
                "slideshow": {
                    "slide_type": "subslide"
                }
            },
            "source": [
                "## Attributs et m\u00e9thodes sp\u00e9ciales\n",
                "\n",
                "* En raison des potentiels bugs d\u00e9crits pr\u00e9c\u00e9demment, \u00e9vitez au maximum d'avoir recours \u00e0 ces m\u00e9thodes\n",
                "* Elles sont de plus complexes \u00e0 utiliser car n\u00e9cessitent de traiter tous les attributs un \u00e0 un\n",
                "* Heureusement Python nous offre d'autres facilit\u00e9s pour g\u00e9rer des attributs dynamiques"
            ]
        },
        {
            "cell_type": "markdown",
            "metadata": {
                "slideshow": {
                    "slide_type": "slide"
                }
            },
            "source": [
                "# Propri\u00e9t\u00e9s"
            ]
        },
        {
            "cell_type": "markdown",
            "metadata": {
                "slideshow": {
                    "slide_type": "subslide"
                }
            },
            "source": [
                "## Propri\u00e9t\u00e9s\n",
                "\n",
                "* Les propri\u00e9t\u00e9s permettent de simplifier l'usage d'attributs dynamiques\n",
                "* Elles associent des fonctions de r\u00e9cup\u00e9ration, de modification et de suppression \u00e0 un nom d'attribut\n",
                "* On associe une propri\u00e9t\u00e9 \u00e0 un nom d'attribut en la d\u00e9finissant comme attribut de classe"
            ]
        },
        {
            "cell_type": "markdown",
            "metadata": {
                "slideshow": {
                    "slide_type": "subslide"
                }
            },
            "source": [
                "## Propri\u00e9t\u00e9s"
            ]
        },
        {
            "cell_type": "code",
            "metadata": {
                "slideshow": {
                    "slide_type": "-"
                }
            },
            "source": [
                "class Temperature:\n",
                "    def __init__(self, celsius=0):\n",
                "        self.celsius = celsius\n",
                "\n",
                "    def _get_fahrenheit(self):\n",
                "        return self.celsius * 1.8 + 32\n",
                "\n",
                "    def _set_fahrenheit(self, value):\n",
                "        self.celsius = (value - 32) / 1.8\n",
                "\n",
                "    fahrenheit = property(_get_fahrenheit, _set_fahrenheit)\n",
                "\n",
                "t = Temperature()\n",
                "t.fahrenheit = 100\n",
                "t.celsius"
            ],
            "outputs": [],
            "execution_count": null
        },
        {
            "cell_type": "markdown",
            "metadata": {
                "slideshow": {
                    "slide_type": "subslide"
                }
            },
            "source": [
                "## D\u00e9corateur `@property`\n",
                "\n",
                "* `property` peut aussi s'utiliser comme un d\u00e9corateur\n",
                "* Le nom de l'attribut d\u00e9coule alors du nom du *getter*"
            ]
        },
        {
            "cell_type": "code",
            "metadata": {
                "slideshow": {
                    "slide_type": "-"
                }
            },
            "source": [
                "class Temperature:\n",
                "    def __init__(self, celsius=0):\n",
                "        self.celsius = celsius\n",
                "\n",
                "    @property\n",
                "    def fahrenheit(self):\n",
                "        return self.celsius * 1.8 + 32\n",
                "\n",
                "    @fahrenheit.setter\n",
                "    def fahrenheit(self, value):\n",
                "        self.celsius = (value - 32) / 1.8\n",
                "\n",
                "t = Temperature()\n",
                "t.fahrenheit = 100\n",
                "t.celsius"
            ],
            "outputs": [],
            "execution_count": null
        },
        {
            "cell_type": "markdown",
            "metadata": {
                "slideshow": {
                    "slide_type": "subslide"
                }
            },
            "source": [
                "## Propri\u00e9t\u00e9s en lecture seule\n",
                "\n",
                "* Le *getter* peut \u00eatre impl\u00e9ment\u00e9 sans le *setter*"
            ]
        },
        {
            "cell_type": "code",
            "metadata": {
                "slideshow": {
                    "slide_type": "-"
                }
            },
            "source": [
                "class Rect:\n",
                "    def __init__(self, width, height):\n",
                "        self.width = width\n",
                "        self.height = height\n",
                "    @property\n",
                "    def perimeter(self):\n",
                "        return 2 * (self.width + self.height)\n",
                "    @property\n",
                "    def area(self):\n",
                "        return self.width * self.height\n",
                "\n",
                "rect = Rect(10, 20)"
            ],
            "outputs": [],
            "execution_count": null
        },
        {
            "cell_type": "code",
            "metadata": {
                "slideshow": {
                    "slide_type": "-"
                }
            },
            "source": [
                "rect.perimeter"
            ],
            "outputs": [],
            "execution_count": null
        },
        {
            "cell_type": "code",
            "metadata": {
                "slideshow": {
                    "slide_type": "-"
                }
            },
            "source": [
                "rect.area"
            ],
            "outputs": [],
            "execution_count": null
        },
        {
            "cell_type": "markdown",
            "metadata": {
                "slideshow": {
                    "slide_type": "slide"
                }
            },
            "source": [
                "# Descripteurs"
            ]
        },
        {
            "cell_type": "markdown",
            "metadata": {
                "slideshow": {
                    "slide_type": "subslide"
                }
            },
            "source": [
                "## Descripteurs\n",
                "\n",
                "* Les propri\u00e9t\u00e9s sont un sous-ensemble des descripteurs\n",
                "* Un descripteur est un objet sp\u00e9cial qui permet de r\u00e9gir le comportement d'un attribut\n",
                "* Il poss\u00e8de pour cela des m\u00e9thodes `__get__`, `__set__` et `__delete__`"
            ]
        },
        {
            "cell_type": "markdown",
            "metadata": {
                "slideshow": {
                    "slide_type": "subslide"
                }
            },
            "source": [
                "## Descripteurs\n",
                "\n",
                "* Le descripteur est instanci\u00e9 une seule fois pour toute la classe\n",
                "* Ses m\u00e9thodes sp\u00e9ciales sont appel\u00e9es lors des diff\u00e9rents acc\u00e8s \u00e0 l'attribut\n",
                "* L'objet duquel on acc\u00e8de \u00e0 l'attribut est alors pass\u00e9 en param\u00e8tre"
            ]
        },
        {
            "cell_type": "markdown",
            "metadata": {
                "slideshow": {
                    "slide_type": "subslide"
                }
            },
            "source": [
                "## Descripteurs"
            ]
        },
        {
            "cell_type": "code",
            "metadata": {
                "slideshow": {
                    "slide_type": "-"
                }
            },
            "source": [
                "class Fahrenheit:\n",
                "    def __get__(self, instance, owner):\n",
                "        return instance.celsius * 1.8 + 32\n",
                "\n",
                "    def __set__(self, instance, value):\n",
                "        instance.celsius = (value - 32) / 1.8\n",
                "\n",
                "class Temperature:\n",
                "    def __init__(self, celsius=0):\n",
                "        self.celsius = 0\n",
                "\n",
                "    fahrenheit = Fahrenheit()\n",
                "\n",
                "t = Temperature()\n",
                "t.fahrenheit = 100\n",
                "t.celsius"
            ],
            "outputs": [],
            "execution_count": null
        },
        {
            "cell_type": "markdown",
            "metadata": {
                "slideshow": {
                    "slide_type": "subslide"
                }
            },
            "source": [
                "## M\u00e9thode `__get__` des descripteurs\n",
                "\n",
                "* Quel est donc ce param\u00e8tre `owner` de la m\u00e9thode `__get__`\u00a0?\n",
                "* Un descripteur peut-\u00eatre r\u00e9cup\u00e9r\u00e9 depuis la classe et non depuis une instance de cette classe\n",
                "* Dans ce cas, le param\u00e8tre `instance` vaudra `None`, et `owner` r\u00e9f\u00e9rence toujours la classe utilis\u00e9e"
            ]
        },
        {
            "cell_type": "markdown",
            "metadata": {
                "slideshow": {
                    "slide_type": "subslide"
                }
            },
            "source": [
                "## M\u00e9thode `__get__` des descripteurs"
            ]
        },
        {
            "cell_type": "code",
            "metadata": {
                "slideshow": {
                    "slide_type": "-"
                }
            },
            "source": [
                "class Descriptor:\n",
                "    def __get__(self, instance, owner):\n",
                "        if instance is None:\n",
                "            return f'Attribute of class {owner}'\n",
                "        return f'Attribute of {instance}'\n",
                "\n",
                "class C:\n",
                "    attr = Descriptor()\n",
                "\n",
                "C.attr"
            ],
            "outputs": [],
            "execution_count": null
        },
        {
            "cell_type": "code",
            "metadata": {
                "slideshow": {
                    "slide_type": "-"
                }
            },
            "source": [
                "obj = C()\n",
                "obj.attr"
            ],
            "outputs": [],
            "execution_count": null
        },
        {
            "cell_type": "markdown",
            "metadata": {
                "slideshow": {
                    "slide_type": "subslide"
                }
            },
            "source": [
                "## Descripteurs\n",
                "\n",
                "* Ce comportement n'est valable que pour le `__get__`\n",
                "* En effet, la red\u00e9finition et la suppression de l'attribut de classe doivent toujours \u00eatre possibles"
            ]
        },
        {
            "cell_type": "code",
            "metadata": {
                "slideshow": {
                    "slide_type": "-"
                }
            },
            "source": [
                "C.attr = 'foo'"
            ],
            "outputs": [],
            "execution_count": null
        },
        {
            "cell_type": "code",
            "metadata": {
                "slideshow": {
                    "slide_type": "-"
                }
            },
            "source": [
                "del C.attr"
            ],
            "outputs": [],
            "execution_count": null
        },
        {
            "cell_type": "markdown",
            "metadata": {
                "slideshow": {
                    "slide_type": "subslide"
                }
            },
            "source": [
                "## M\u00e9thode `__set_name__`\n",
                "\n",
                "* Depuis Python 3.6, les descripteurs peuvent aussi comporter une m\u00e9thode `__set_name__` appel\u00e9e lorsqu'ils sont d\u00e9finis dans une classe"
            ]
        },
        {
            "cell_type": "code",
            "metadata": {
                "slideshow": {
                    "slide_type": "-"
                }
            },
            "source": [
                "class cachedescriptor:\n",
                "    def __init__(self, func):\n",
                "        self.func = func\n",
                "\n",
                "    def __set_name__(self, owner, name):\n",
                "        self.name = name\n",
                "\n",
                "    def __get__(self, inst, owner):\n",
                "        if inst is None:\n",
                "            return self\n",
                "        if self.name not in inst.__dict__:\n",
                "            inst.__dict__[self.name] = self.func(inst)\n",
                "        return inst.__dict__[self.name]"
            ],
            "outputs": [],
            "execution_count": null
        },
        {
            "cell_type": "markdown",
            "metadata": {
                "slideshow": {
                    "slide_type": "subslide"
                }
            },
            "source": [
                "## M\u00e9thode `__set_name__`"
            ]
        },
        {
            "cell_type": "code",
            "metadata": {
                "slideshow": {
                    "slide_type": "-"
                }
            },
            "source": [
                "class Calculation:\n",
                "    @cachedescriptor\n",
                "    def result(self):\n",
                "        print('Complex calculation')\n",
                "        ...\n",
                "        return 0\n",
                "\n",
                "calc = Calculation()"
            ],
            "outputs": [],
            "execution_count": null
        },
        {
            "cell_type": "code",
            "metadata": {
                "slideshow": {
                    "slide_type": "-"
                }
            },
            "source": [
                "calc.result"
            ],
            "outputs": [],
            "execution_count": null
        },
        {
            "cell_type": "markdown",
            "metadata": {
                "slideshow": {
                    "slide_type": "subslide"
                }
            },
            "source": [
                "## Propri\u00e9t\u00e9s\n",
                "\n",
                "* Impl\u00e9mentation simple des propri\u00e9t\u00e9s (ne g\u00e8re pas l'utilisation en d\u00e9corateurs)"
            ]
        },
        {
            "cell_type": "code",
            "metadata": {
                "slideshow": {
                    "slide_type": "-"
                }
            },
            "source": [
                "class my_property:\n",
                "    def __init__(self, fget, fset, fdel):\n",
                "        self.fget = fget\n",
                "        self.fset = fset\n",
                "        self.fdel = fdel\n",
                "    def __get__(self, instance, owner):\n",
                "        return self.fget(instance)\n",
                "    def __set__(self, instance, value):\n",
                "        return self.fset(instance, value)\n",
                "    def __delete__(self, instance):\n",
                "        return self.fdel(instance)"
            ],
            "outputs": [],
            "execution_count": null
        },
        {
            "cell_type": "markdown",
            "metadata": {
                "slideshow": {
                    "slide_type": "slide"
                }
            },
            "source": [
                "# M\u00e9thodes"
            ]
        },
        {
            "cell_type": "markdown",
            "metadata": {
                "slideshow": {
                    "slide_type": "subslide"
                }
            },
            "source": [
                "## M\u00e9thodes\n",
                "\n",
                "* Derri\u00e8re leur apparente simplicit\u00e9, les m\u00e9thodes sont en fait des descripteurs\n",
                "* C'est ce qui explique la diff\u00e9rence entre m\u00e9thodes et *bound methods*"
            ]
        },
        {
            "cell_type": "code",
            "metadata": {
                "slideshow": {
                    "slide_type": "-"
                }
            },
            "source": [
                "class C:\n",
                "    def method(self):\n",
                "        pass\n",
                "\n",
                "C.method"
            ],
            "outputs": [],
            "execution_count": null
        },
        {
            "cell_type": "code",
            "metadata": {
                "slideshow": {
                    "slide_type": "-"
                }
            },
            "source": [
                "c = C()\n",
                "c.method"
            ],
            "outputs": [],
            "execution_count": null
        },
        {
            "cell_type": "markdown",
            "metadata": {
                "slideshow": {
                    "slide_type": "subslide"
                }
            },
            "source": [
                "## M\u00e9thodes\n",
                "\n",
                "* Une m\u00e9thode est en alors un descripteur autour d'une fonction\n",
                "* Ce descripteur r\u00e9agit diff\u00e9remment suivant si la m\u00e9thode est acc\u00e9d\u00e9e depuis la classe ou l'une de ses instances"
            ]
        },
        {
            "cell_type": "code",
            "metadata": {
                "slideshow": {
                    "slide_type": "-"
                }
            },
            "source": [
                "from functools import partial\n",
                "\n",
                "class Method:\n",
                "    def __init__(self, func):\n",
                "        self.func = func\n",
                "\n",
                "    def __get__(self, instance, owner):\n",
                "        if instance is None:\n",
                "            return self.func\n",
                "        return partial(self.func, instance)"
            ],
            "outputs": [],
            "execution_count": null
        },
        {
            "cell_type": "markdown",
            "metadata": {
                "slideshow": {
                    "slide_type": "subslide"
                }
            },
            "source": [
                "## M\u00e9thodes\n",
                "\n",
                "* Les m\u00e9thodes de classe fonctionnent de la m\u00eame mani\u00e8re en utilisant l'`owner`"
            ]
        },
        {
            "cell_type": "code",
            "metadata": {
                "slideshow": {
                    "slide_type": "-"
                }
            },
            "source": [
                "class ClassMethod:\n",
                "    def __init__(self, func):\n",
                "        self.func = func\n",
                "\n",
                "    def __get__(self, instance, owner):\n",
                "        return partial(self.func, owner)"
            ],
            "outputs": [],
            "execution_count": null
        },
        {
            "cell_type": "markdown",
            "metadata": {
                "slideshow": {
                    "slide_type": "-"
                }
            },
            "source": [
                "* Les m\u00e9thodes statiques sont les plus simples et ne d\u00e9pendent d'aucun descripteur"
            ]
        },
        {
            "cell_type": "code",
            "metadata": {
                "slideshow": {
                    "slide_type": "-"
                }
            },
            "source": [
                "class StaticMethod:\n",
                "    def __init__(self, func):\n",
                "        self.func = func\n",
                "\n",
                "    def __get__(self, instance, owner):\n",
                "        return self.func"
            ],
            "outputs": [],
            "execution_count": null
        },
        {
            "cell_type": "markdown",
            "metadata": {
                "slideshow": {
                    "slide_type": "slide"
                }
            },
            "source": [
                "# Slots"
            ]
        },
        {
            "cell_type": "markdown",
            "metadata": {
                "slideshow": {
                    "slide_type": "subslide"
                }
            },
            "source": [
                "## Slots\n",
                "\n",
                "* Tous les objets ne poss\u00e8dent pas de `__dict__`\n",
                "* Il est possible d'optimiser le stockage des attributs en d\u00e9finissant des slots au niveau de la classe\n",
                "* Cela \u00e9vite l'instanciation d'un dictionnaire mais emp\u00eache de d\u00e9finir des attributs non d\u00e9clar\u00e9s"
            ]
        },
        {
            "cell_type": "code",
            "metadata": {
                "slideshow": {
                    "slide_type": "-"
                }
            },
            "source": [
                "class Point:\n",
                "    __slots__ = ('x', 'y')\n",
                "\n",
                "    def __init__(self, x, y):\n",
                "        self.x = x\n",
                "        self.y = y"
            ],
            "outputs": [],
            "execution_count": null
        },
        {
            "cell_type": "code",
            "metadata": {
                "slideshow": {
                    "slide_type": "-"
                }
            },
            "source": [
                "p = Point(3, 4)\n",
                "p.x, p.y"
            ],
            "outputs": [],
            "execution_count": null
        },
        {
            "cell_type": "code",
            "metadata": {
                "slideshow": {
                    "slide_type": "-"
                }
            },
            "source": [
                "p.z = 1"
            ],
            "outputs": [],
            "execution_count": null
        },
        {
            "cell_type": "markdown",
            "metadata": {
                "slideshow": {
                    "slide_type": "subslide"
                }
            },
            "source": [
                "## Slots\n",
                "\n",
                "* Les classes utilisant des slots restent compatibles avec les m\u00e9canismes d'attributs dynamiques"
            ]
        },
        {
            "cell_type": "code",
            "metadata": {
                "slideshow": {
                    "slide_type": "-"
                }
            },
            "source": [
                "class Point:\n",
                "    __slots__ = ('x', 'y')\n",
                "\n",
                "    def __init__(self, x, y):\n",
                "        self.x = x\n",
                "        self.y = y\n",
                "\n",
                "    @property\n",
                "    def distance(self):\n",
                "        return (self.x**2 + self.y**2)**0.5\n",
                "\n",
                "p = Point(3, 4)\n",
                "p.distance"
            ],
            "outputs": [],
            "execution_count": null
        },
        {
            "cell_type": "markdown",
            "metadata": {
                "slideshow": {
                    "slide_type": "slide"
                }
            },
            "source": [
                "# Conclusion"
            ]
        },
        {
            "cell_type": "markdown",
            "metadata": {
                "slideshow": {
                    "slide_type": "subslide"
                }
            },
            "source": [
                "## Python 3.7\u00a0: Module et `__getattr__`\n",
                "\n",
                "* Depuis Python 3.7, les modules peuvent aussi d\u00e9finir une m\u00e9thode sp\u00e9ciale `__getattr__`\n",
                "* Ils permettent plus facilement de g\u00e9rer des attributs dynamiques au niveau d'un module"
            ]
        },
        {
            "cell_type": "markdown",
            "metadata": {
                "slideshow": {
                    "slide_type": "subslide"
                }
            },
            "source": [
                "## Conclusion\n",
                "\n",
                "* *Complex is better than complicated*\n",
                "\n",
                "* *Slides*\u00a0: <https://entwanne.github.io/presentation_attributs_dynamiques_python/pres.slides.html>\n",
                "* <https://zestedesavoir.com/tutoriels/954/notions-de-python-avancees/>\n",
                "\n",
                "#### <div align=\"right\">Antoine (entwanne) Rozo</div>\n",
                "\n",
                "<div align=\"right\"><img src=\"schtroumpf_flat_rounded.png\" style=\"width: 5em;\" /></div>"
            ]
        },
        {
            "cell_type": "markdown",
            "metadata": {
                "slideshow": {
                    "slide_type": "subslide"
                }
            },
            "source": [
                "## Questions\u00a0?"
            ]
        }
    ],
    "metadata": {
        "celltoolbar": "Slideshow",
        "kernelspec": {
            "display_name": "Python 3",
            "language": "python",
            "name": "python3"
        },
        "language_info": {
            "codemirror_mode": {
                "name": "ipython",
                "version": 3
            },
            "file_extension": ".py",
            "mimetype": "text/x-python",
            "name": "python",
            "nbconvert_exporter": "python",
            "pygments_lexer": "ipython3",
            "version": "3.6.5"
        },
        "livereveal": {
            "autolaunch": true
        }
    },
    "nbformat": 4,
    "nbformat_minor": 2
}